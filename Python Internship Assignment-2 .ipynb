{
 "cells": [
  {
   "cell_type": "markdown",
   "metadata": {},
   "source": [
    "___\n",
    "\n",
    "<a href='https://viqasys.com/wp-content/uploads/2021/07/ns1.png'><img src='https://viqasys.com/wp-content/uploads/2021/07/ns1.png'/></a>\n",
    "___\n",
    "<center><em>Content Copyright VIQASYS INNOVATIONS PVT LTD.</em></center>\n",
    "\n",
    "# Assignment 1"
   ]
  },
  {
   "cell_type": "markdown",
   "metadata": {},
   "source": [
    "# Question 1\n",
    "\n",
    "Write a program to calculate the area of a circle when the radius is given."
   ]
  },
  {
   "cell_type": "code",
   "execution_count": 4,
   "metadata": {},
   "outputs": [
    {
     "name": "stdout",
     "output_type": "stream",
     "text": [
      "Enter radius of circle:- 7\n",
      "Radius=  7.0\n",
      "Area of circle = 153.93804002589985 Sq Unit\n"
     ]
    }
   ],
   "source": [
    "import math\n",
    "r=float(input('Enter radius of circle:- '))\n",
    "print('Radius= ',r)\n",
    "A=math.pi*r*r\n",
    "print('Area of circle =' ,A,'Sq Unit')"
   ]
  },
  {
   "cell_type": "markdown",
   "metadata": {},
   "source": [
    "## Question 2\n",
    "\n",
    "Write a program to determine whether a number is positive, negative, or zero."
   ]
  },
  {
   "cell_type": "code",
   "execution_count": 6,
   "metadata": {},
   "outputs": [
    {
     "name": "stdout",
     "output_type": "stream",
     "text": [
      "Enter a number:- 4\n",
      "4.0 is positive number!\n"
     ]
    }
   ],
   "source": [
    "num=float(input('Enter a number:- '))\n",
    "if(num>0):\n",
    "    print(num,'is positive number!')\n",
    "elif(num<0):\n",
    "    print(num,'is Negative Number!')\n",
    "else:\n",
    "    print(num,'is ZERO !')"
   ]
  },
  {
   "cell_type": "markdown",
   "metadata": {},
   "source": [
    "## Question 3\n",
    "Describe three different data types commonly used in programming"
   ]
  },
  {
   "cell_type": "code",
   "execution_count": null,
   "metadata": {},
   "outputs": [],
   "source": [
    "1. Integer (int):\n",
    "-> An integer is a whole number without any decimal point.\n",
    "-> Examples: -5, 0, 42, 100, etc.\n",
    "-> Integers can be positive or negative.\n",
    "->In most programming languages, integers have a fixed range determined by the number of bits used to store them.\n",
    "    For example, a 32-bit integer can represent values from -2,147,483,648 to 2,147,483,647.\n",
    "2. Floating-point (float):\n",
    "-> A floating-point number is a number that has a decimal point or uses an exponential (scientific) notation.\n",
    "-> Examples: 3.14, -0.5, 1.0e10 (1.0 x 10^10), etc.\n",
    "-> Floating-point numbers can represent a wide range of values, including fractions and very large or very small numbers.\n",
    "-> However, they have limited precision due to the finite number of bits used to store them,\n",
    "    which can lead to rounding errors in calculations.\n",
    "3. String (str):\n",
    "-> A string is a sequence of characters, typically used to represent text.\n",
    "-> Examples: \"Hello, world!\", \"Python\", \"12345\", etc.\n",
    "-> Strings are enclosed in either single (' ') or double (\" \") quotation marks, depending on the programming language.\n",
    "-> Strings can contain letters, digits, special characters, and whitespace.\n",
    "-> Many programming languages provide built-in functions and meth"
   ]
  },
  {
   "cell_type": "markdown",
   "metadata": {},
   "source": [
    "## Question 4\n",
    "Write a program to print a pattern where 'n' repeats 1, 2, and 3 times respectively.\n"
   ]
  },
  {
   "cell_type": "code",
   "execution_count": 8,
   "metadata": {},
   "outputs": [
    {
     "name": "stdout",
     "output_type": "stream",
     "text": [
      "Enter the value of 'n': 3\n",
      "1\n",
      "22\n",
      "333\n"
     ]
    }
   ],
   "source": [
    "def print_pattern(n):\n",
    "    for i in range(1, n+1):\n",
    "        print(str(i) * i)\n",
    "\n",
    "n = int(input(\"Enter the value of 'n': \"))\n",
    "print_pattern(n)\n",
    "\n"
   ]
  },
  {
   "cell_type": "markdown",
   "metadata": {},
   "source": [
    "## Question 5\n",
    "\n",
    "Write a program to calculate the number of days between two given dates."
   ]
  },
  {
   "cell_type": "code",
   "execution_count": 9,
   "metadata": {},
   "outputs": [
    {
     "name": "stdout",
     "output_type": "stream",
     "text": [
      "Enter the first date (YYYY-MM-DD): 2003-03-03\n",
      "Enter the second date (YYYY-MM-DD): 2024-05-04\n",
      "Number of days between the two dates: 7733\n"
     ]
    }
   ],
   "source": [
    "from datetime import datetime\n",
    "def days_between_dates(date1, date2):\n",
    "    date_format = \"%Y-%m-%d\"\n",
    "    a = datetime.strptime(date1, date_format)\n",
    "    b = datetime.strptime(date2, date_format)\n",
    "    delta = b - a\n",
    "    return abs(delta.days)\n",
    "date1 = input(\"Enter the first date (YYYY-MM-DD): \")\n",
    "date2 = input(\"Enter the second date (YYYY-MM-DD): \")\n",
    "\n",
    "print(\"Number of days between the two dates:\", days_between_dates(date1, date2))\n"
   ]
  },
  {
   "cell_type": "markdown",
   "metadata": {},
   "source": [
    "## Question 6\n",
    "Write a program to calculate the volume of a sphere given its radius."
   ]
  },
  {
   "cell_type": "code",
   "execution_count": 10,
   "metadata": {},
   "outputs": [
    {
     "name": "stdout",
     "output_type": "stream",
     "text": [
      "Enter the radius of the sphere: 23\n",
      "Volume of the sphere: 50965.01042163601\n"
     ]
    }
   ],
   "source": [
    "import math\n",
    "radius = float(input(\"Enter the radius of the sphere: \"))\n",
    "volume = (4/3) * math.pi * (radius ** 3)\n",
    "print(\"Volume of the sphere:\", volume)\n"
   ]
  },
  {
   "cell_type": "markdown",
   "metadata": {},
   "source": [
    "## Question 7\n",
    "Write a program to get the difference between a given number and 17, if the number is greater than 17, return double the absolute difference.3\n",
    "\n"
   ]
  },
  {
   "cell_type": "code",
   "execution_count": 11,
   "metadata": {},
   "outputs": [
    {
     "name": "stdout",
     "output_type": "stream",
     "text": [
      "Enter a number: 45\n",
      "The difference is: 56.0\n"
     ]
    }
   ],
   "source": [
    "def get_difference(number):\n",
    "    if number <= 17:\n",
    "        return 17 - number\n",
    "    else:\n",
    "        return (number - 17) * 2\n",
    "\n",
    "number = float(input(\"Enter a number: \"))\n",
    "print(\"The difference is:\", get_difference(number))\n"
   ]
  },
  {
   "cell_type": "markdown",
   "metadata": {},
   "source": [
    "## Question 8\n",
    "\n",
    "Write a program that accepts a string and checks if it starts with \"Is\"."
   ]
  },
  {
   "cell_type": "code",
   "execution_count": 12,
   "metadata": {},
   "outputs": [
    {
     "name": "stdout",
     "output_type": "stream",
     "text": [
      "Enter a string: Is ram good boy?\n",
      "The string starts with 'Is'\n"
     ]
    }
   ],
   "source": [
    "input_string = input(\"Enter a string: \")\n",
    "if input_string.startswith(\"Is\"):\n",
    "    print(\"The string starts with 'Is'\")\n",
    "else:\n",
    "    print(\"The string does not start with 'Is'\")\n"
   ]
  },
  {
   "cell_type": "markdown",
   "metadata": {},
   "source": [
    "## Question 9\n",
    "\n",
    "Write a program to get a string which is n (non-negative integer) copies of a given string."
   ]
  },
  {
   "cell_type": "code",
   "execution_count": 14,
   "metadata": {},
   "outputs": [
    {
     "name": "stdout",
     "output_type": "stream",
     "text": [
      "Enter a string: 3\n",
      "Enter the number of copies: 3\n",
      "Result: 333\n"
     ]
    }
   ],
   "source": [
    "def copy_string(string, n):\n",
    "    if n < 0:\n",
    "        return \"Invalid input: n should be a non-negative integer.\"\n",
    "    else:\n",
    "        return string * n\n",
    "input_string = input(\"Enter a string: \")\n",
    "num_copies = int(input(\"Enter the number of copies: \"))\n",
    "\n",
    "print(\"Result:\", copy_string(input_string, num_copies))\n"
   ]
  },
  {
   "cell_type": "markdown",
   "metadata": {},
   "source": [
    "## Question 10 \n",
    "Write a program to find if a given number is odd or even.\n",
    "\n"
   ]
  },
  {
   "cell_type": "code",
   "execution_count": 15,
   "metadata": {},
   "outputs": [
    {
     "name": "stdout",
     "output_type": "stream",
     "text": [
      "Enter a number :- 19\n",
      "19 is Odd Number !\n"
     ]
    }
   ],
   "source": [
    "num=int(input('Enter a number :- '))\n",
    "if(num%2==0):\n",
    "    print(num,'is Even Number !')\n",
    "else:\n",
    "    print(num,'is Odd Number !')"
   ]
  },
  {
   "cell_type": "markdown",
   "metadata": {},
   "source": [
    "## Question 11\n",
    "Write a program to check whether a character is a vowel or consonant.."
   ]
  },
  {
   "cell_type": "code",
   "execution_count": 16,
   "metadata": {},
   "outputs": [
    {
     "name": "stdout",
     "output_type": "stream",
     "text": [
      "Enter a character: w\n",
      "The character 'w' is a consonant.\n"
     ]
    }
   ],
   "source": [
    "def check_vowel_or_consonant(char):\n",
    "    vowels = 'aeiouAEIOU'\n",
    "    \n",
    "    if char.lower() in vowels:\n",
    "        return f\"The character '{char}' is a vowel.\"\n",
    "    else:\n",
    "        return f\"The character '{char}' is a consonant.\"\n",
    "\n",
    "character = input(\"Enter a character: \")\n",
    "print(check_vowel_or_consonant(character))\n"
   ]
  },
  {
   "cell_type": "markdown",
   "metadata": {},
   "source": [
    "## Question 12\n",
    "Write a program to calculate the area of a triangle when the base and height are given"
   ]
  },
  {
   "cell_type": "code",
   "execution_count": 18,
   "metadata": {},
   "outputs": [
    {
     "name": "stdout",
     "output_type": "stream",
     "text": [
      "Enter base of a triangle:- 2\n",
      "Enter height of a triangle:- 7\n",
      "Area of triangle =  7.0 Sq unit\n"
     ]
    }
   ],
   "source": [
    "b=float(input('Enter base of a triangle:- '))\n",
    "h=float(input('Enter height of a triangle:- '))\n",
    "a=1/2*b*h\n",
    "print('Area of triangle = ',a,'Sq unit')"
   ]
  },
  {
   "cell_type": "markdown",
   "metadata": {},
   "source": [
    "## Question 13\n",
    "Write a program to return True if a number in the given list is even."
   ]
  },
  {
   "cell_type": "code",
   "execution_count": 1,
   "metadata": {},
   "outputs": [
    {
     "name": "stdout",
     "output_type": "stream",
     "text": [
      "Enter numbers separated by spaces: 2 3 4 5 7 9 \n",
      "Result: True\n"
     ]
    }
   ],
   "source": [
    "def check(lst):\n",
    "    for num in lst:\n",
    "        if num % 2 == 0:\n",
    "            return True\n",
    "    return False\n",
    "\n",
    "numbers = [int(x) for x in input(\"Enter numbers separated by spaces: \").split()]\n",
    "print(\"Result:\", check(numbers))"
   ]
  },
  {
   "cell_type": "markdown",
   "metadata": {},
   "source": [
    "## Question 14\n",
    "Write a program to create a new string where 'xy' has been added to the front of a given string. If the string already begins with 'xy', return the string unchanged.\n"
   ]
  },
  {
   "cell_type": "code",
   "execution_count": 2,
   "metadata": {},
   "outputs": [
    {
     "name": "stdout",
     "output_type": "stream",
     "text": [
      "Enter a string: ravi kishan\n",
      "Result: xyravi kishan\n"
     ]
    }
   ],
   "source": [
    "def add_xy(input_string):\n",
    "    if input_string.startswith('xy'):\n",
    "        return input_string\n",
    "    else:\n",
    "        return 'xy' + input_string\n",
    "string_input = input(\"Enter a string: \")\n",
    "result = add_xy(string_input)\n",
    "print(\"Result:\", result)\n",
    "\n"
   ]
  },
  {
   "cell_type": "markdown",
   "metadata": {},
   "source": [
    "## Question 15\n",
    "Write a program to calculate the principal amount when the interest, time, and amount are given.\n"
   ]
  },
  {
   "cell_type": "code",
   "execution_count": 3,
   "metadata": {},
   "outputs": [
    {
     "name": "stdout",
     "output_type": "stream",
     "text": [
      "Enter the interest rate (in percentage): 12\n",
      "Enter the time (in years): 3\n",
      "Enter the total amount (including interest): 126700\n",
      "The principal amount is: 93161.76470588236\n"
     ]
    }
   ],
   "source": [
    "def calculate_principal(interest, time, amount):\n",
    "    rate = interest / 100\n",
    "    principal = amount / (1 + rate * time)\n",
    "    return principal\n",
    "interest_rate = float(input(\"Enter the interest rate (in percentage): \"))\n",
    "time = float(input(\"Enter the time (in years): \"))\n",
    "amount = float(input(\"Enter the total amount (including interest): \"))\n",
    "\n",
    "principal_amount = calculate_principal(interest_rate, time, amount)\n",
    "\n",
    "print(\"The principal amount is:\", principal_amount)\n"
   ]
  },
  {
   "cell_type": "markdown",
   "metadata": {},
   "source": [
    "## Question 16\n",
    "Write a program to calculate the distance between two points (x1, y1) and (x2, y2)."
   ]
  },
  {
   "cell_type": "code",
   "execution_count": 4,
   "metadata": {},
   "outputs": [
    {
     "name": "stdout",
     "output_type": "stream",
     "text": [
      "Enter the x-coordinate of the first point: 2\n",
      "Enter the y-coordinate of the first point: 3\n",
      "Enter the x-coordinate of the second point: 5\n",
      "Enter the y-coordinate of the second point: 7\n",
      "The distance between the two points is: 5.0\n"
     ]
    }
   ],
   "source": [
    "import math\n",
    "\n",
    "def calculate_distance(x1, y1, x2, y2):\n",
    "    distance = math.sqrt((x2 - x1)**2 + (y2 - y1)**2)\n",
    "    return distance\n",
    "\n",
    "x1 = float(input(\"Enter the x-coordinate of the first point: \"))\n",
    "y1 = float(input(\"Enter the y-coordinate of the first point: \"))\n",
    "x2 = float(input(\"Enter the x-coordinate of the second point: \"))\n",
    "y2 = float(input(\"Enter the y-coordinate of the second point: \"))\n",
    "\n",
    "distance = calculate_distance(x1, y1, x2, y2)\n",
    "\n",
    "print(\"The distance between the two points is:\", distance)\n"
   ]
  },
  {
   "cell_type": "markdown",
   "metadata": {},
   "source": [
    "## Question 17\n",
    "Write a program to convert height in feet and inches to centimeters."
   ]
  },
  {
   "cell_type": "code",
   "execution_count": 5,
   "metadata": {},
   "outputs": [
    {
     "name": "stdout",
     "output_type": "stream",
     "text": [
      "Enter the height in feet: 12\n",
      "Enter the height in inches: 123\n",
      "The height is: 678.1800000000001 centimeters\n"
     ]
    }
   ],
   "source": [
    "feet = int(input(\"Enter the height in feet: \"))\n",
    "inches = int(input(\"Enter the height in inches: \"))\n",
    "\n",
    "total_inches = feet * 12 + inches\n",
    "\n",
    "centimeters = total_inches * 2.54\n",
    "\n",
    "print(\"The height is:\", centimeters, \"centimeters\")\n"
   ]
  },
  {
   "cell_type": "markdown",
   "metadata": {},
   "source": [
    "## Question 18\n",
    "Write a program to find the length of the hypotenuse of a right-angled triangle."
   ]
  },
  {
   "cell_type": "code",
   "execution_count": 6,
   "metadata": {},
   "outputs": [
    {
     "name": "stdout",
     "output_type": "stream",
     "text": [
      "Enter the length of the first side: 3\n",
      "Enter the length of the second side: 4\n",
      "The length of the hypotenuse is: 5.0\n"
     ]
    }
   ],
   "source": [
    "side1 = float(input(\"Enter the length of the first side: \"))\n",
    "side2 = float(input(\"Enter the length of the second side: \"))\n",
    "\n",
    "\n",
    "hypotenuse = (side1 ** 2 + side2 ** 2) ** 0.5\n",
    "\n",
    "print(\"The length of the hypotenuse is:\", hypotenuse)\n"
   ]
  },
  {
   "cell_type": "markdown",
   "metadata": {},
   "source": [
    "## Question 19\n",
    "Write a program to convert distance in kilometers to miles."
   ]
  },
  {
   "cell_type": "code",
   "execution_count": 7,
   "metadata": {},
   "outputs": [
    {
     "name": "stdout",
     "output_type": "stream",
     "text": [
      "Enter the distance in kilometers: 123\n",
      "The distance is: 76.428633 miles\n"
     ]
    }
   ],
   "source": [
    "kilometers = float(input(\"Enter the distance in kilometers: \"))\n",
    "\n",
    "conversion_factor = 0.621371\n",
    "\n",
    "miles = kilometers * conversion_factor\n",
    "\n",
    "print(\"The distance is:\", miles, \"miles\")\n"
   ]
  },
  {
   "cell_type": "markdown",
   "metadata": {},
   "source": [
    "## Question 20\n",
    "Write a program to convert days, hours, minutes, and seconds into seconds."
   ]
  },
  {
   "cell_type": "code",
   "execution_count": 12,
   "metadata": {},
   "outputs": [
    {
     "name": "stdout",
     "output_type": "stream",
     "text": [
      "Enter number of day:-3\n",
      "Enter number of hours:-23\n",
      "Enter number of minutes:-2\n",
      "total seconds in  3 days is :-  259200\n",
      "total seconds in  23.0 hours is :-  82800.0\n",
      "total seconds in  2.0 minutes is :-  82800.0\n",
      "Total seconds in  3 days 23.0 hours and 2.0 minutes = 342120.0\n"
     ]
    }
   ],
   "source": [
    "day=int(input(\"Enter number of day:-\"))\n",
    "hours=float(input(\"Enter number of hours:-\"))\n",
    "minute=float(input(\"Enter number of minutes:-\"))\n",
    "d_s=day*24*60*60\n",
    "h_s=hours*60*60\n",
    "m_s=minute*60\n",
    "print('total seconds in ',day,'days is :- ',d_s)\n",
    "print('total seconds in ',hours,'hours is :- ',h_s)\n",
    "print('total seconds in ',minute,'minutes is :- ',h_s)\n",
    "t_s=d_s+h_s+m_s\n",
    "print('Total seconds in ',day,'days',hours,'hours and',minute,'minutes =',t_s)\n"
   ]
  },
  {
   "cell_type": "markdown",
   "metadata": {},
   "source": [
    "## Question 21\n",
    "Write a program to calculate Body Mass Index (BMI).\n"
   ]
  },
  {
   "cell_type": "code",
   "execution_count": 13,
   "metadata": {},
   "outputs": [
    {
     "name": "stdout",
     "output_type": "stream",
     "text": [
      "Enter your height in cm:- 165\n",
      "enter your weight in kg:- 65\n",
      "your body mass index is:  23.88\n",
      "you are healty !\n"
     ]
    }
   ],
   "source": [
    "height=float(input(\"Enter your height in cm:- \"))\n",
    "weight=float(input(\"enter your weight in kg:- \"))\n",
    "height=height/100\n",
    "\n",
    "bmi= weight/(height*height)\n",
    "\n",
    "print(\"your body mass index is: \",round(bmi,2))\n",
    "\n",
    "if(bmi>0):\n",
    "  if(bmi<=16):\n",
    "    print(\"you are severely underweight !\")\n",
    "  elif(bmi<=18.5):\n",
    "    print(\"you are  underweight !\")\n",
    "  elif(bmi<=25):\n",
    "    print(\"you are healty !\")\n",
    "  elif(bmi<=30):\n",
    "    print(\"you are  overrweight !\")\n",
    "  else:\n",
    "    print(\"you are severely Overweight !\")\n",
    "else:\n",
    "  print(\"Enter valid details....!\")"
   ]
  },
  {
   "cell_type": "markdown",
   "metadata": {},
   "source": [
    "## Question 22\n",
    "Write a program to convert temperature from Celsius to Fahrenheit and vice versa.\n",
    "\n"
   ]
  },
  {
   "cell_type": "code",
   "execution_count": 14,
   "metadata": {},
   "outputs": [
    {
     "name": "stdout",
     "output_type": "stream",
     "text": [
      "1. Celsius to Fahrenheit\n",
      "2. Fahrenheit to Celsius\n",
      "Enter your choice (1 or 2): 1\n",
      "Enter temperature in Celsius: 45\n",
      "Temperature in Fahrenheit: 113.0\n"
     ]
    }
   ],
   "source": [
    "def celsius_to_fahrenheit(celsius):\n",
    "    fahrenheit = (celsius * 9/5) + 32\n",
    "    return fahrenheit\n",
    "\n",
    "def fahrenheit_to_celsius(fahrenheit):\n",
    "    celsius = (fahrenheit - 32) * 5/9\n",
    "    return celsius\n",
    "\n",
    "print(\"1. Celsius to Fahrenheit\")\n",
    "print(\"2. Fahrenheit to Celsius\")\n",
    "choice = int(input(\"Enter your choice (1 or 2): \"))\n",
    "\n",
    "if choice == 1:\n",
    "    celsius = float(input(\"Enter temperature in Celsius: \"))\n",
    "    fahrenheit = celsius_to_fahrenheit(celsius)\n",
    "    print(\"Temperature in Fahrenheit:\", fahrenheit)\n",
    "elif choice == 2:\n",
    "    fahrenheit = float(input(\"Enter temperature in Fahrenheit: \"))\n",
    "    celsius = fahrenheit_to_celsius(fahrenheit)\n",
    "    print(\"Temperature in Celsius:\", celsius)\n",
    "else:\n",
    "    print(\"Invalid choice\")\n"
   ]
  },
  {
   "cell_type": "markdown",
   "metadata": {},
   "source": [
    "## Question 23\n",
    "Write a program to sum the first 'n' positive integers.\n"
   ]
  },
  {
   "cell_type": "code",
   "execution_count": 15,
   "metadata": {},
   "outputs": [
    {
     "name": "stdout",
     "output_type": "stream",
     "text": [
      "Enter a positive integer 'n': 7\n",
      "The sum of the first 7 positive integers is: 28\n"
     ]
    }
   ],
   "source": [
    "n = int(input(\"Enter a positive integer 'n': \"))\n",
    "\n",
    "total = 0\n",
    "\n",
    "if n <= 0:\n",
    "    print(\"Please enter a positive integer.\")\n",
    "else:\n",
    "    total = (n * (n + 1)) // 2\n",
    "    print(\"The sum of the first\", n, \"positive integers is:\", total)\n"
   ]
  },
  {
   "cell_type": "markdown",
   "metadata": {},
   "source": [
    "## Question 24\n",
    "Write a program to calculate the sum of all the digits in a given integer.\n"
   ]
  },
  {
   "cell_type": "code",
   "execution_count": 16,
   "metadata": {},
   "outputs": [
    {
     "name": "stdout",
     "output_type": "stream",
     "text": [
      "Enter an integer: 234\n",
      "The sum of digits in the given integer is: 9\n"
     ]
    }
   ],
   "source": [
    "number = int(input(\"Enter an integer: \"))\n",
    "\n",
    "sum_of_digits = 0\n",
    "\n",
    "while number > 0:\n",
    "    digit = number % 10\n",
    "    sum_of_digits += digit\n",
    "    number //= 10\n",
    "\n",
    "print(\"The sum of digits in the given integer is:\", sum_of_digits)\n"
   ]
  },
  {
   "cell_type": "markdown",
   "metadata": {},
   "source": [
    "## Question 25\n",
    "Write a program to convert a decimal number into binary, octal, and hexadecimal.\n"
   ]
  },
  {
   "cell_type": "code",
   "execution_count": 17,
   "metadata": {},
   "outputs": [
    {
     "name": "stdout",
     "output_type": "stream",
     "text": [
      "Enter a decimal number: 10\n",
      "Binary: 0b1010\n",
      "Octal: 0o12\n",
      "Hexadecimal: 0xa\n"
     ]
    }
   ],
   "source": [
    "decimal_number = int(input(\"Enter a decimal number: \"))\n",
    "\n",
    "binary_number = bin(decimal_number)\n",
    "octal_number = oct(decimal_number)\n",
    "hexadecimal_number = hex(decimal_number)\n",
    "\n",
    "print(\"Binary:\", binary_number)\n",
    "print(\"Octal:\", octal_number)\n",
    "print(\"Hexadecimal:\", hexadecimal_number)\n"
   ]
  },
  {
   "cell_type": "markdown",
   "metadata": {},
   "source": [
    "## Question 26\n",
    "Write a program to convert a binary number to decimal.\n"
   ]
  },
  {
   "cell_type": "code",
   "execution_count": 18,
   "metadata": {},
   "outputs": [
    {
     "name": "stdout",
     "output_type": "stream",
     "text": [
      "Enter a binary number: 0101\n",
      "Decimal equivalent: 5\n"
     ]
    }
   ],
   "source": [
    "binary_number = input(\"Enter a binary number: \")\n",
    "decimal_number = int(binary_number, 2)\n",
    "print(\"Decimal equivalent:\", decimal_number)\n"
   ]
  },
  {
   "cell_type": "markdown",
   "metadata": {},
   "source": [
    "## Question 27\n",
    "Write a program to convert an octal number to decimal.\n"
   ]
  },
  {
   "cell_type": "code",
   "execution_count": 21,
   "metadata": {},
   "outputs": [
    {
     "name": "stdout",
     "output_type": "stream",
     "text": [
      "Enter an octal number: 345\n",
      "Decimal equivalent: 229\n"
     ]
    }
   ],
   "source": [
    "octal_number = int(input(\"Enter an octal number: \"))\n",
    "\n",
    "decimal_number = 0\n",
    "for digit in str(octal_number):\n",
    "    decimal_number = decimal_number * 8 + int(digit)\n",
    "\n",
    "print(\"Decimal equivalent:\", decimal_number)\n",
    "\n"
   ]
  },
  {
   "cell_type": "markdown",
   "metadata": {},
   "source": [
    "## Question 28\n",
    "Write a program to convert a hexadecimal number to decimal.\n"
   ]
  },
  {
   "cell_type": "code",
   "execution_count": 22,
   "metadata": {},
   "outputs": [
    {
     "name": "stdout",
     "output_type": "stream",
     "text": [
      "Enter a hexadecimal number: 1A3F\n",
      "Decimal equivalent: 6719\n"
     ]
    }
   ],
   "source": [
    "hexadecimal_number = input(\"Enter a hexadecimal number: \")\n",
    "\n",
    "decimal_number = int(hexadecimal_number, 16)\n",
    "\n",
    "print(\"Decimal equivalent:\", decimal_number)\n"
   ]
  },
  {
   "cell_type": "markdown",
   "metadata": {},
   "source": [
    "## Question 29\n",
    "Write a program to count the number of occurrences of a specific character in a string.\n"
   ]
  },
  {
   "cell_type": "code",
   "execution_count": 24,
   "metadata": {},
   "outputs": [
    {
     "name": "stdout",
     "output_type": "stream",
     "text": [
      "Enter a string: RAvi kishan\n",
      "Enter the character to count occurrences: i\n",
      "The character 'i' occurs 2 times in the string.\n"
     ]
    }
   ],
   "source": [
    "input_string = input(\"Enter a string: \")\n",
    "\n",
    "character = input(\"Enter the character to count occurrences: \")\n",
    "\n",
    "occurrences = input_string.count(character)\n",
    "\n",
    "print(f\"The character '{character}' occurs {occurrences} times in the string.\")\n"
   ]
  },
  {
   "cell_type": "markdown",
   "metadata": {},
   "source": [
    "## Question 30\n",
    "Write a program to find the greatest common divisor (GCD) or highest common factor (HCF) of two numbers.\n"
   ]
  },
  {
   "cell_type": "code",
   "execution_count": 25,
   "metadata": {},
   "outputs": [
    {
     "name": "stdout",
     "output_type": "stream",
     "text": [
      "Enter the first number: 11\n",
      "Enter the second number: 4\n",
      "The GCD (HCF) of 11 and 4 is: 1\n"
     ]
    }
   ],
   "source": [
    "def gcd(a, b):\n",
    "    while b:\n",
    "        a, b = b, a % b\n",
    "    return a\n",
    "\n",
    "num1 = int(input(\"Enter the first number: \"))\n",
    "num2 = int(input(\"Enter the second number: \"))\n",
    "\n",
    "result = gcd(num1, num2)\n",
    "\n",
    "print(\"The GCD (HCF) of\", num1, \"and\", num2, \"is:\", result)\n"
   ]
  },
  {
   "cell_type": "markdown",
   "metadata": {},
   "source": [
    "## Question 31\n",
    "Write a program to find the least common multiple (LCM) of two numbers.\n"
   ]
  },
  {
   "cell_type": "code",
   "execution_count": 26,
   "metadata": {},
   "outputs": [
    {
     "name": "stdout",
     "output_type": "stream",
     "text": [
      "Enter first number: 2\n",
      "Enter second number: 3\n",
      "The least common multiple of 2 and 3 is: 6\n"
     ]
    }
   ],
   "source": [
    "def gcd(a, b):\n",
    "    while b:\n",
    "        a, b = b, a % b\n",
    "    return a\n",
    "\n",
    "def lcm(a, b):\n",
    "    return (a * b) // gcd(a, b)\n",
    "\n",
    "def main():\n",
    "    num1 = int(input(\"Enter first number: \"))\n",
    "    num2 = int(input(\"Enter second number: \"))\n",
    "\n",
    "    result = lcm(num1, num2)\n",
    "    print(\"The least common multiple of\", num1, \"and\", num2, \"is:\", result)\n",
    "\n",
    "if __name__ == \"__main__\":\n",
    "    main()\n"
   ]
  },
  {
   "cell_type": "markdown",
   "metadata": {},
   "source": [
    "## Question 32\n",
    "Write a program to reverse a given name.\n"
   ]
  },
  {
   "cell_type": "code",
   "execution_count": 27,
   "metadata": {},
   "outputs": [
    {
     "name": "stdout",
     "output_type": "stream",
     "text": [
      "Enter a name: ravi\n",
      "Reversed name: ivar\n"
     ]
    }
   ],
   "source": [
    "name = input(\"Enter a name: \")\n",
    "reversed_name = \"\"\n",
    "\n",
    "for i in range(len(name)):\n",
    "    reversed_name = name[i] + reversed_name\n",
    "\n",
    "print(\"Reversed name:\", reversed_name)\n"
   ]
  },
  {
   "cell_type": "markdown",
   "metadata": {},
   "source": [
    "## Question 33\n",
    "Write a program to count the occurrences of a substring in a given string.\n"
   ]
  },
  {
   "cell_type": "code",
   "execution_count": 28,
   "metadata": {},
   "outputs": [
    {
     "name": "stdout",
     "output_type": "stream",
     "text": [
      "Enter a string: hey hello ravi how are you hello\n",
      "Enter a substring to count: hello\n",
      "Number of occurrences of substring 'hello' in the string: 2\n"
     ]
    }
   ],
   "source": [
    "def count_substring(string, substring):\n",
    "    count = 0\n",
    "    for i in range(len(string) - len(substring) + 1):\n",
    "        if string[i:i + len(substring)] == substring:\n",
    "            count += 1\n",
    "    return count\n",
    "\n",
    "def main():\n",
    "    string = input(\"Enter a string: \")\n",
    "    substring = input(\"Enter a substring to count: \")\n",
    "\n",
    "    occurrences = count_substring(string, substring)\n",
    "    print(\"Number of occurrences of substring '{}' in the string: {}\".format(substring, occurrences))\n",
    "\n",
    "if __name__ == \"__main__\":\n",
    "    main()\n"
   ]
  },
  {
   "cell_type": "markdown",
   "metadata": {},
   "source": [
    "## Question 34\n",
    "Write a program to distribute a given amount into notes.\n"
   ]
  },
  {
   "cell_type": "code",
   "execution_count": 29,
   "metadata": {},
   "outputs": [
    {
     "name": "stdout",
     "output_type": "stream",
     "text": [
      "you note will be of 500, 200, 100, 50, 20, 10, 5, 2, 1 \n",
      "Enter the amount to distribute: 12345\n",
      "Notes distribution:\n",
      "500: 24\n",
      "200: 1\n",
      "100: 1\n",
      "20: 2\n",
      "5: 1\n"
     ]
    }
   ],
   "source": [
    "def distribute_notes(amount):\n",
    "    notes = [500, 200, 100, 50, 20, 10, 5, 2, 1]  \n",
    "    notes_distribution = {}  \n",
    "\n",
    "    for note in notes:\n",
    "        count = amount // note  \n",
    "        if count > 0:\n",
    "            notes_distribution[note] = count \n",
    "            amount -= count * note \n",
    "\n",
    "    return notes_distribution\n",
    "\n",
    "def main():\n",
    "    print('you note will be of 500, 200, 100, 50, 20, 10, 5, 2, 1 ')\n",
    "    amount = int(input(\"Enter the amount to distribute: \"))\n",
    "    notes_distribution = distribute_notes(amount)\n",
    "    print(\"Notes distribution:\")\n",
    "    for note, count in notes_distribution.items():\n",
    "        print(\"{}: {}\".format(note, count))\n",
    "\n",
    "if __name__ == \"__main__\":\n",
    "    main()\n"
   ]
  },
  {
   "cell_type": "markdown",
   "metadata": {},
   "source": [
    "## Question 35\n",
    "Write a program to check whether a given string is a palindrome or not.\n"
   ]
  },
  {
   "cell_type": "code",
   "execution_count": 31,
   "metadata": {},
   "outputs": [
    {
     "name": "stdout",
     "output_type": "stream",
     "text": [
      "Enter a string: malylam\n",
      "The string is a palindrome.\n"
     ]
    }
   ],
   "source": [
    "string = input(\"Enter a string: \")\n",
    "\n",
    "# Clean the string: convert to lowercase and remove non-alphanumeric characters\n",
    "cleaned_string = ''\n",
    "for char in string:\n",
    "    if char.isalnum():\n",
    "        cleaned_string += char.lower()\n",
    "\n",
    "# Check if the cleaned string is equal to its reverse\n",
    "length = len(cleaned_string)\n",
    "is_palindrome = True\n",
    "for i in range(length // 2):\n",
    "    if cleaned_string[i] != cleaned_string[length - i - 1]:\n",
    "        is_palindrome = False\n",
    "        break\n",
    "\n",
    "if is_palindrome:\n",
    "    print(\"The string is a palindrome.\")\n",
    "else:\n",
    "    print(\"The string is not a palindrome.\")\n"
   ]
  },
  {
   "cell_type": "markdown",
   "metadata": {},
   "source": [
    "## Question 36\n",
    "Write a program to check whether a given number is a palindrome or not.\n"
   ]
  },
  {
   "cell_type": "code",
   "execution_count": 32,
   "metadata": {},
   "outputs": [
    {
     "name": "stdout",
     "output_type": "stream",
     "text": [
      "Enter a number: 12321\n",
      "The number is a palindrome.\n"
     ]
    }
   ],
   "source": [
    "number = int(input(\"Enter a number: \"))\n",
    "original_number = number\n",
    "reversed_number = 0\n",
    "\n",
    "\n",
    "while number > 0:\n",
    "    digit = number % 10\n",
    "    reversed_number = reversed_number * 10 + digit\n",
    "    number //= 10\n",
    "\n",
    "if original_number == reversed_number:\n",
    "    print(\"The number is a palindrome.\")\n",
    "else:\n",
    "    print(\"The number is not a palindrome.\")\n"
   ]
  },
  {
   "cell_type": "markdown",
   "metadata": {},
   "source": [
    "## Question 37\n",
    "Write a program to generate the Fibonacci series.\n"
   ]
  },
  {
   "cell_type": "code",
   "execution_count": 33,
   "metadata": {},
   "outputs": [
    {
     "name": "stdout",
     "output_type": "stream",
     "text": [
      "Enter the limit for Fibonacci series: 6\n",
      "Fibonacci series up to 6:\n",
      "[0, 1, 1, 2, 3, 5]\n"
     ]
    }
   ],
   "source": [
    "limit = int(input(\"Enter the limit for Fibonacci series: \"))\n",
    "\n",
    "a, b = 0, 1\n",
    "\n",
    "fibonacci_series = []\n",
    "\n",
    "while a <= limit:\n",
    "    fibonacci_series.append(a)\n",
    "    a, b = b, a + b\n",
    "\n",
    "print(\"Fibonacci series up to {}:\".format(limit))\n",
    "print(fibonacci_series)\n"
   ]
  },
  {
   "cell_type": "markdown",
   "metadata": {},
   "source": [
    "## Question 38\n",
    "Write a program to print the multiplication table of a given number.\n"
   ]
  },
  {
   "cell_type": "code",
   "execution_count": 34,
   "metadata": {},
   "outputs": [
    {
     "name": "stdout",
     "output_type": "stream",
     "text": [
      "Enter the number: 17\n",
      "Multiplication table of 17\n",
      "17 x 1 = 17\n",
      "17 x 2 = 34\n",
      "17 x 3 = 51\n",
      "17 x 4 = 68\n",
      "17 x 5 = 85\n",
      "17 x 6 = 102\n",
      "17 x 7 = 119\n",
      "17 x 8 = 136\n",
      "17 x 9 = 153\n",
      "17 x 10 = 170\n"
     ]
    }
   ],
   "source": [
    "number = int(input(\"Enter the number: \"))\n",
    "\n",
    "\n",
    "print(\"Multiplication table of\", number)\n",
    "for i in range(1, 11):\n",
    "    print(number, \"x\", i, \"=\", number * i)\n"
   ]
  },
  {
   "cell_type": "markdown",
   "metadata": {},
   "source": [
    "## Question 39\n",
    "Write a program to count the number of letters and digits in a given string.\n"
   ]
  },
  {
   "cell_type": "code",
   "execution_count": 35,
   "metadata": {},
   "outputs": [
    {
     "name": "stdout",
     "output_type": "stream",
     "text": [
      "Enter a string: ram is a good boy,his age is 24 years\n",
      "Number of letters: 26\n",
      "Number of digits: 2\n"
     ]
    }
   ],
   "source": [
    "string = input(\"Enter a string: \")\n",
    "letter_count = 0\n",
    "digit_count = 0\n",
    "\n",
    "for char in string:\n",
    "    if char.isalpha():\n",
    "        letter_count += 1\n",
    "    elif char.isdigit():\n",
    "        digit_count += 1\n",
    "\n",
    "print(\"Number of letters:\", letter_count)\n",
    "print(\"Number of digits:\", digit_count)\n"
   ]
  },
  {
   "cell_type": "markdown",
   "metadata": {},
   "source": [
    "## Question 40\n",
    "Write a program to print the following pattern:\n"
   ]
  },
  {
   "cell_type": "code",
   "execution_count": null,
   "metadata": {},
   "outputs": [],
   "source": [
    "it is not a complete question\n"
   ]
  }
 ],
 "metadata": {
  "anaconda-cloud": {},
  "kernelspec": {
   "display_name": "Python 3 (ipykernel)",
   "language": "python",
   "name": "python3"
  },
  "language_info": {
   "codemirror_mode": {
    "name": "ipython",
    "version": 3
   },
   "file_extension": ".py",
   "mimetype": "text/x-python",
   "name": "python",
   "nbconvert_exporter": "python",
   "pygments_lexer": "ipython3",
   "version": "3.11.5"
  }
 },
 "nbformat": 4,
 "nbformat_minor": 4
}
