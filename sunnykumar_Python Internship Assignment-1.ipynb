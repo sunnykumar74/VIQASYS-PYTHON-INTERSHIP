{
 "cells": [
  {
   "cell_type": "markdown",
   "metadata": {},
   "source": [
    "___\n",
    "\n",
    "<a href='https://viqasys.com/wp-content/uploads/2021/07/ns1.png'><img src='https://viqasys.com/wp-content/uploads/2021/07/ns1.png'/></a>\n",
    "___\n",
    "<center><em>Content Copyright VIQASYS INNOVATIONS PVT LTD.</em></center>\n",
    "\n",
    "# Assignment 1"
   ]
  },
  {
   "cell_type": "markdown",
   "metadata": {},
   "source": [
    "# Question 1\n",
    "\n",
    "In the below elements, identify which of them are values or expressions. Values can be integers or strings, while expressions will be mathematical operators or combinations thereof.\n",
    "'hello', \n",
    "-87., ), o, lu, alu, ssion)'(Value))str\" (Value)"
   ]
  },
  {
   "cell_type": "markdown",
   "metadata": {},
   "source": [
    "Values:'hello',-87."
   ]
  },
  {
   "cell_type": "markdown",
   "metadata": {},
   "source": [
    "Expressions: \n",
    "')'\n",
    "'o'\n",
    "'lu'\n",
    "'alu'\n",
    "'ssion)'\n",
    "'(Value))str\" (Value)'"
   ]
  },
  {
   "cell_type": "markdown",
   "metadata": {},
   "source": [
    "## Question 2\n",
    "\n",
    "Explain the difference between a string and a variable.\n"
   ]
  },
  {
   "cell_type": "markdown",
   "metadata": {},
   "source": [
    "A string and a variable are both fundamental concepts in programming, but they serve different purposes and represent different kinds of data.\n",
    "\n",
    "1.String: Definition: A string is a sequence of characters, typically used to represent text data. In most programming languages, strings are enclosed within single quotes (' ') or double quotes (\" \").\n",
    "Example: \"Hello, World!\" is a string literal that represents the text \"Hello, World!\".\n",
    "    \n",
    "2.Variable: Definition: A variable is a symbolic name or identifier that represents a storage location in the computer's memory. It can hold different types of data, such as numbers, strings, or other complex objects.\n",
    "Example: In Python, you can declare a variable like this: message = \"Hello, World!\". Here, message is the variable name, and it holds the string \"Hello, World!\"."
   ]
  },
  {
   "cell_type": "markdown",
   "metadata": {},
   "source": [
    "## Question 3\n",
    "Describe three different data types commonly used in programming"
   ]
  },
  {
   "cell_type": "markdown",
   "metadata": {},
   "source": [
    "Integer (int): Definition: Integers are whole numbers without any decimal points. They can be positive, negative, or zero.\n",
    "Example: 5, -10, 0 are all examples of integers.\n",
    "    \n",
    "String (str): Definition: Strings are sequences of characters, typically used to represent text data. They are enclosed within single quotes (' ') or double quotes (\" \").\n",
    "Example: \"Hello, World!\", 'Python programming', and \"12345\" are all examples of strings.\n",
    "    \n",
    "Floating-Point Number (float): Definition: Floating-point numbers, or floats, are numbers that have decimal points or use scientific notation.\n",
    "Example: 3.14, -0.5, 1.0e5 (scientific notation for 100000) are examples of floating-point numbers."
   ]
  },
  {
   "cell_type": "markdown",
   "metadata": {},
   "source": [
    "## Question 4\n",
    "What is an expression made up of? What is the general purpose of expressions?\n"
   ]
  },
  {
   "cell_type": "markdown",
   "metadata": {},
   "source": [
    "An expression in programming is made up of one or more operands and operators that are combined to produce a new value. Let's break down the components of an expression:\n",
    "\n",
    "Operand: An operand is a data item or value on which an operation is performed within an expression.\n",
    "Examples of operands:\n",
    "Variables: x, y, result\n",
    "Constants: 5, 3.14, \"hello\"\n",
    "    \n",
    "Operator: An operator is a symbol that specifies the type of operation to be performed on one or more operands.\n",
    "Examples of operators:\n",
    "Arithmetic operators: + (addition), - (subtraction), * (multiplication), / (division)\n",
    "Comparison operators: == (equal to), != (not equal to), < (less than), > (greater than)\n",
    "Logical operators: 'and', 'or', 'not'\n",
    "    \n",
    "Expression: An expression is a combination of operands and operators that, when evaluated, produces a value.\n",
    "Example of an expression: 'x + 5', where 'x' is an operand and '+' is the addition operator."
   ]
  },
  {
   "cell_type": "markdown",
   "metadata": {},
   "source": [
    "## Question 5\n",
    "\n",
    "Explain the difference between an expression and a statement, using examples if necessary."
   ]
  },
  {
   "cell_type": "markdown",
   "metadata": {},
   "source": [
    "Difference between Expression and Statement:\n",
    "\n",
    "Purpose:\n",
    "Expression: Used to compute values or results.\n",
    "Statement: Used to perform actions or control the flow of the program.\n",
    "    \n",
    "Evaluation:\n",
    "Expression: Can be evaluated to produce a value.\n",
    "Statement: Does not yield a value directly but rather executes commands or controls program flow.\n",
    "    \n",
    "Examples:\n",
    "Expression: '5 + 3' (evaluates to 8)\n",
    "Statement: 'x = 10' (assigns '10' to variable 'x')"
   ]
  },
  {
   "cell_type": "markdown",
   "metadata": {},
   "source": [
    "## Question 6\n",
    "After running the following code, what does the variable \"bacon\" contain?\n",
    "\n",
    "bacon = 22 <br>\n",
    "\n",
    "bacon + 1"
   ]
  },
  {
   "cell_type": "markdown",
   "metadata": {},
   "source": [
    "After running this modified code, bacon would indeed contain the value '23'."
   ]
  },
  {
   "cell_type": "markdown",
   "metadata": {},
   "source": [
    "## Question 7\n",
    "Determine the values of the following two terms:<br>\n",
    "'spam' + 'spamspam'<br>\n",
    "'spam' * 3\n",
    "\n"
   ]
  },
  {
   "cell_type": "markdown",
   "metadata": {},
   "source": [
    "'spamspamspam'"
   ]
  },
  {
   "cell_type": "markdown",
   "metadata": {},
   "source": [
    "## Question 8\n",
    "\n",
    "Why is \"eggs\" a valid variable name while \"100\" is invalid?"
   ]
  },
  {
   "cell_type": "markdown",
   "metadata": {},
   "source": [
    "In most programming languages, including Python, variable names must follow certain rules to be valid. Here are some common rules for variable names:\n",
    "\n",
    "1.Start with a letter or underscore (_): Variable names must begin with a letter (a-z, A-Z) or an underscore (_). They cannot start with a number.\n",
    "\n",
    "2.Contain letters, numbers, or underscores: After the initial character, variable names can contain letters (a-z, A-Z), digits (0-9), or underscores (_).\n",
    "\n",
    "3.Cannot contain spaces or special characters: Variable names cannot contain spaces, and they cannot include special characters such as !, @, #, $, %, etc. However, underscores (_) are allowed.\n",
    "\n",
    "Based on these rules, let's analyze the examples you provided:\n",
    "\n",
    "\"eggs\": This is a valid variable name because it starts with a letter ('e') and contains only letters. It follows the rules for variable naming.\n",
    "\n",
    "\"100\": This is an invalid variable name because it starts with a number ('1'). Variable names cannot start with numbers in most programming languages. However, it is worth noting that the variable name \"100\" could be made valid by including a letter or underscore at the beginning, such as \"_100\" or \"var100\"."
   ]
  },
  {
   "cell_type": "markdown",
   "metadata": {},
   "source": [
    "## Question 9\n",
    "\n",
    "List three functions that can be used to obtain the integer, floating-point number, or string version of a value."
   ]
  },
  {
   "cell_type": "markdown",
   "metadata": {},
   "source": [
    "int(): This function is used to convert a value to an integer. If the value is a floating-point number, it will be truncated towards zero (i.e., the decimal part will be discarded).\n",
    "number = 10.5\n",
    "integer_number = int(number)\n",
    "print(integer_number)  # Output: 10\n",
    "\n",
    "\n",
    "float(): This function converts a value to a floating-point number. If the value is an integer, it will be converted to a float with a decimal part of \".0\".\n",
    "integer = 10\n",
    "float_number = float(integer)\n",
    "print(float_number)  # Output: 10.0\n",
    "    \n",
    "str(): This function converts a value to its string representation. It can be used to convert integers, floating-point numbers, or any other data type to a string.\n",
    "value = 42\n",
    "string_value = str(value)\n",
    "print(string_value)  # Output: \"42\""
   ]
  },
  {
   "cell_type": "markdown",
   "metadata": {},
   "source": [
    "## Question 10 \n",
    "Explain why the following expression causes an error and suggest how to fix it:<br>\n",
    "'I have eaten ' + 99 + ' burritos.'\n",
    "\n"
   ]
  },
  {
   "cell_type": "markdown",
   "metadata": {},
   "source": [
    "The expression 'I have eaten ' + 99 + ' burritos.' causes an error because you are trying to concatenate a string ('I have eaten ') with an integer (99) without converting the integer to a string first. In programming, when you use the + operator with strings, you can only concatenate strings together, not mix them with other data types like integers.\n",
    "\n",
    "To fix the error, you need to convert the integer 99 to a string before concatenating it with the other strings. You can do this using the str() function to convert 99 to '99'. Here's how you can fix the expression:\n",
    "\n",
    "result = 'I have eaten ' + str(99) + ' burritos.'\n",
    "print(result)  # Output: 'I have eaten 99 burritos.'\n"
   ]
  },
  {
   "cell_type": "markdown",
   "metadata": {},
   "source": [
    "Question 11\n",
    "Write a Python program to calculate the sum of two numbers and print the result.\n",
    "gative, or zero."
   ]
  },
  {
   "cell_type": "code",
   "execution_count": 8,
   "metadata": {},
   "outputs": [
    {
     "name": "stdout",
     "output_type": "stream",
     "text": [
      "The sum of 15.0 and 25.0 is 40.0.\n"
     ]
    }
   ],
   "source": [
    "# Input the numbers\n",
    "num1 = float(input(\"Enter the first number: \"))\n",
    "num2 = float(input(\"Enter the second number: \"))\n",
    "\n",
    "sum_result = num1 + num2\n",
    "print(f\"The sum of {num1} and {num2} is {sum_result}.\")\n"
   ]
  },
  {
   "cell_type": "markdown",
   "metadata": {},
   "source": [
    "Question 12\n",
    "Create a Python program that takes the user's name as input and prints a greeting message.\n",
    "\n"
   ]
  },
  {
   "cell_type": "code",
   "execution_count": 9,
   "metadata": {},
   "outputs": [
    {
     "name": "stdout",
     "output_type": "stream",
     "text": [
      "Hello, abhi! Welcome to the program.\n"
     ]
    }
   ],
   "source": [
    "# Input the user's name\n",
    "name = input(\"Enter your name: \")\n",
    "\n",
    "print(f\"Hello, {name}! Welcome to the program.\")\n"
   ]
  },
  {
   "cell_type": "markdown",
   "metadata": {},
   "source": [
    "Question 13\n",
    "Write a Python program to calculate the area of a rectangle given its length and width. (Assume length and width are provided as inputs.)\n",
    "\n"
   ]
  },
  {
   "cell_type": "code",
   "execution_count": 10,
   "metadata": {},
   "outputs": [
    {
     "name": "stdout",
     "output_type": "stream",
     "text": [
      "The area of the rectangle with length 45.0 and width 45.0 is 2025.0.\n"
     ]
    }
   ],
   "source": [
    "# Input the length and width of the rectangle\n",
    "length = float(input(\"Enter the length of the rectangle: \"))\n",
    "width = float(input(\"Enter the width of the rectangle: \"))\n",
    "\n",
    "area = length * width\n",
    "\n",
    "print(f\"The area of the rectangle with length {length} and width {width} is {area}.\")\n"
   ]
  },
  {
   "cell_type": "markdown",
   "metadata": {},
   "source": [
    "## Question 14\n",
    "Create a Python program that asks the user for their age and prints out a message saying whether they are a child, teenager, or adult based on their age.\n",
    "\n"
   ]
  },
  {
   "cell_type": "code",
   "execution_count": 11,
   "metadata": {},
   "outputs": [
    {
     "name": "stdout",
     "output_type": "stream",
     "text": [
      "You are an adult.\n"
     ]
    }
   ],
   "source": [
    "# Input the user's age\n",
    "age = int(input(\"Enter your age: \"))\n",
    "\n",
    "if age <= 12:\n",
    "    print(\"You are a child.\")\n",
    "elif age <= 19:\n",
    "    print(\"You are a teenager.\")\n",
    "else:\n",
    "    print(\"You are an adult.\")\n"
   ]
  },
  {
   "cell_type": "markdown",
   "metadata": {},
   "source": [
    "Question 15\n",
    "\n",
    "Write a Python program to convert temperature from Celsius to Fahrenheit. (Assume Celsius temperature is provided as input.)\n"
   ]
  },
  {
   "cell_type": "code",
   "execution_count": 12,
   "metadata": {},
   "outputs": [
    {
     "name": "stdout",
     "output_type": "stream",
     "text": [
      "The temperature 56.0°C is equivalent to 132.8°F.\n"
     ]
    }
   ],
   "source": [
    "celsius = float(input(\"Enter the temperature in Celsius: \"))\n",
    "\n",
    "fahrenheit = (celsius * 9/5) + 32\n",
    "print(f\"The temperature {celsius}°C is equivalent to {fahrenheit}°F.\")\n"
   ]
  },
  {
   "cell_type": "markdown",
   "metadata": {},
   "source": [
    "## Question 16\n",
    "Create a Python program that takes the radius of a circle as input and calculates its area. (Assume the value of pi is 3.14.)\n",
    "\n"
   ]
  },
  {
   "cell_type": "code",
   "execution_count": 13,
   "metadata": {},
   "outputs": [
    {
     "name": "stdout",
     "output_type": "stream",
     "text": [
      "The area of the circle with radius 35.0 is: 3846.5\n"
     ]
    }
   ],
   "source": [
    "pi = 3.14\n",
    "\n",
    "radius = float(input(\"Enter the radius of the circle: \"))\n",
    "\n",
    "area = pi * radius ** 2\n",
    "\n",
    "print(\"The area of the circle with radius\", radius, \"is:\", area)\n"
   ]
  },
  {
   "cell_type": "markdown",
   "metadata": {},
   "source": [
    "## Question 17\n",
    "Write a Python program to find the maximum of two numbers entered by the user.\n",
    "\n"
   ]
  },
  {
   "cell_type": "code",
   "execution_count": 14,
   "metadata": {},
   "outputs": [
    {
     "name": "stdout",
     "output_type": "stream",
     "text": [
      "The maximum of 25.0 and 32.0 is: 32.0\n"
     ]
    }
   ],
   "source": [
    "num1 = float(input(\"Enter the first number: \"))\n",
    "\n",
    "num2 = float(input(\"Enter the second number: \"))\n",
    "\n",
    "maximum = max(num1, num2)\n",
    "\n",
    "print(\"The maximum of\", num1, \"and\", num2, \"is:\", maximum)\n"
   ]
  },
  {
   "cell_type": "markdown",
   "metadata": {},
   "source": [
    "## Question 18\n",
    "Create a Python program that asks the user to enter two numbers and prints out their product.\n",
    "\n"
   ]
  },
  {
   "cell_type": "code",
   "execution_count": 15,
   "metadata": {},
   "outputs": [
    {
     "name": "stdout",
     "output_type": "stream",
     "text": [
      "The product of 54.0 and 14.0 is: 756.0\n"
     ]
    }
   ],
   "source": [
    "# Prompt the user to enter the first number\n",
    "num1 = float(input(\"Enter the first number: \"))\n",
    "\n",
    "num2 = float(input(\"Enter the second number: \"))\n",
    "\n",
    "product = num1 * num2\n",
    "\n",
    "print(\"The product of\", num1, \"and\", num2, \"is:\", product)\n"
   ]
  },
  {
   "cell_type": "markdown",
   "metadata": {},
   "source": [
    "## Question 19\n",
    "Write a Python program that prompts the user to enter a number and then prints whether the number is positive, negative, or zero."
   ]
  },
  {
   "cell_type": "code",
   "execution_count": 6,
   "metadata": {},
   "outputs": [
    {
     "name": "stdout",
     "output_type": "stream",
     "text": [
      "The number is positive.\n"
     ]
    }
   ],
   "source": [
    "# Prompt the user to enter a number\n",
    "number = float(input(\"Enter a number: \"))\n",
    "\n",
    "# Check if the number is positive, negative, or zero\n",
    "if number > 0:\n",
    "    print(\"The number is positive.\")\n",
    "elif number < 0:\n",
    "    print(\"The number is negative.\")\n",
    "else:\n",
    "    print(\"The number is zero.\")\n"
   ]
  }
 ],
 "metadata": {
  "anaconda-cloud": {},
  "kernelspec": {
   "display_name": "Python 3 (ipykernel)",
   "language": "python",
   "name": "python3"
  },
  "language_info": {
   "codemirror_mode": {
    "name": "ipython",
    "version": 3
   },
   "file_extension": ".py",
   "mimetype": "text/x-python",
   "name": "python",
   "nbconvert_exporter": "python",
   "pygments_lexer": "ipython3",
   "version": "3.12.0"
  }
 },
 "nbformat": 4,
 "nbformat_minor": 4
}
